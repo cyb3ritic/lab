{
 "cells": [
  {
   "cell_type": "code",
   "execution_count": null,
   "id": "3c4afc02",
   "metadata": {},
   "outputs": [],
   "source": [
    "# Import necessary libraries\n",
    "import numpy as np\n",
    "import pandas as pd\n",
    "import matplotlib\n",
    "import matplotlib.pyplot as plt\n",
    "import seaborn as sns\n",
    "from sklearn.model_selection import train_test_split\n",
    "from sklearn.linear_model import LinearRegression, Ridge, Lasso, BayesianRidge\n",
    "from sklearn.preprocessing import PolynomialFeatures, StandardScaler\n",
    "from sklearn.metrics import mean_squared_error, r2_score, mean_absolute_error, explained_variance_score\n",
    "from sklearn.svm import SVR\n",
    "from sklearn.tree import DecisionTreeRegressor\n",
    "from sklearn.ensemble import RandomForestRegressor, GradientBoostingRegressor\n",
    "from sklearn.pipeline import make_pipeline"
   ]
  },
  {
   "cell_type": "code",
   "execution_count": null,
   "id": "80bd91ee",
   "metadata": {},
   "outputs": [],
   "source": [
    "# Load your dataset\n",
    "df = pd.read_csv('flood.csv')  # Use your dataset file path here"
   ]
  },
  {
   "cell_type": "code",
   "execution_count": null,
   "id": "357bfeaa",
   "metadata": {},
   "outputs": [],
   "source": [
    "# Assuming 'FloodProbability' is the target variable\n",
    "X = df.drop('FloodProbability', axis=1)\n",
    "y = df['FloodProbability']"
   ]
  },
  {
   "cell_type": "code",
   "execution_count": null,
   "id": "2c20d2cb",
   "metadata": {},
   "outputs": [],
   "source": [
    "# Split the dataset into training and testing sets\n",
    "X_train, X_test, y_train, y_test = train_test_split(X, y, test_size=0.2, random_state=42)\n",
    "\n",
    "# Initialize dictionaries to store metrics\n",
    "performance_metrics = {}"
   ]
  },
  {
   "cell_type": "code",
   "execution_count": null,
   "id": "c23d0a89",
   "metadata": {},
   "outputs": [],
   "source": [
    "def print_and_store_metrics(model_name, y_test, y_pred, tolerance=0.1):\n",
    "    mse = mean_squared_error(y_test, y_pred)\n",
    "    rmse = np.sqrt(mse)\n",
    "    mae = mean_absolute_error(y_test, y_pred)\n",
    "    r2 = r2_score(y_test, y_pred)\n",
    "    \n",
    "    # Print metrics formatted to 5 decimal places\n",
    "    print(f'{model_name}:')\n",
    "    print(f'MSE: {mse:}')\n",
    "    print(f'RMSE: {rmse:}')\n",
    "    print(f'MAE: {mae:}')\n",
    "    print(f'R2: {r2:}')\n",
    "    \n",
    "    # Store metrics without rounding (full values)\n",
    "    performance_metrics[model_name] = {\n",
    "        'MSE': mse,\n",
    "        'RMSE': rmse,\n",
    "        'MAE': mae,\n",
    "        'R2': r2,\n",
    "    }\n"
   ]
  },
  {
   "cell_type": "code",
   "execution_count": null,
   "id": "756bdef8",
   "metadata": {},
   "outputs": [],
   "source": [
    "# Linear Regression\n",
    "linear_model = LinearRegression()\n",
    "linear_model.fit(X_train, y_train)\n",
    "linear_pred = linear_model.predict(X_test)\n",
    "performance_metrics['Linear Regression'] = {\n",
    "    'MSE': mean_squared_error(y_test, linear_pred),\n",
    "    'R2': r2_score(y_test, linear_pred),\n",
    "    'MAE': mean_absolute_error(y_test, linear_pred),\n",
    "    'Explained Variance': explained_variance_score(y_test, linear_pred)\n",
    "    \n",
    "}\n"
   ]
  },
  {
   "cell_type": "code",
   "execution_count": null,
   "id": "96bc041f",
   "metadata": {},
   "outputs": [],
   "source": [
    "# Linear Regression\n",
    "print_and_store_metrics('Linear Regression', y_test, linear_pred)"
   ]
  },
  {
   "cell_type": "code",
   "execution_count": null,
   "id": "a182a04a",
   "metadata": {},
   "outputs": [],
   "source": [
    "# Ridge Regression\n",
    "ridge_model = Ridge(alpha=1.0)\n",
    "ridge_model.fit(X_train, y_train)\n",
    "ridge_pred = ridge_model.predict(X_test)\n",
    "performance_metrics['Ridge Regression'] = {\n",
    "    'MSE': mean_squared_error(y_test, ridge_pred),\n",
    "    'R2': r2_score(y_test, ridge_pred),\n",
    "    'MAE': mean_absolute_error(y_test, ridge_pred),\n",
    "    'Explained Variance': explained_variance_score(y_test, ridge_pred)\n",
    "}\n"
   ]
  },
  {
   "cell_type": "code",
   "execution_count": null,
   "id": "0b6f0a56",
   "metadata": {},
   "outputs": [],
   "source": [
    "print_and_store_metrics('Ridge Regression', y_test, ridge_pred)"
   ]
  },
  {
   "cell_type": "code",
   "execution_count": null,
   "id": "3b7ed7bd",
   "metadata": {},
   "outputs": [],
   "source": [
    "# Lasso Regression\n",
    "lasso_model = Lasso(alpha=1.0)\n",
    "lasso_model.fit(X_train, y_train)\n",
    "lasso_pred = lasso_model.predict(X_test)\n",
    "performance_metrics['Lasso Regression'] = {\n",
    "    'MSE': mean_squared_error(y_test, lasso_pred),\n",
    "    'R2': r2_score(y_test, lasso_pred),\n",
    "    'MAE': mean_absolute_error(y_test, lasso_pred),\n",
    "    'Explained Variance': explained_variance_score(y_test, lasso_pred)\n",
    "}"
   ]
  },
  {
   "cell_type": "code",
   "execution_count": null,
   "id": "b7b2acf0",
   "metadata": {},
   "outputs": [],
   "source": [
    "print_and_store_metrics('Lasso Regression', y_test, lasso_pred)"
   ]
  },
  {
   "cell_type": "code",
   "execution_count": null,
   "id": "1aac950c",
   "metadata": {},
   "outputs": [],
   "source": [
    "# Polynomial Regression (degree=2)\n",
    "poly_model = make_pipeline(PolynomialFeatures(degree=2), LinearRegression())\n",
    "poly_model.fit(X_train, y_train)\n",
    "poly_pred = poly_model.predict(X_test)\n",
    "performance_metrics['Polynomial Regression'] = {\n",
    "    'MSE': mean_squared_error(y_test, poly_pred),\n",
    "    'R2': r2_score(y_test, poly_pred),\n",
    "    'MAE': mean_absolute_error(y_test, poly_pred),\n",
    "    'Explained Variance': explained_variance_score(y_test, poly_pred)\n",
    "}"
   ]
  },
  {
   "cell_type": "code",
   "execution_count": null,
   "id": "48327202",
   "metadata": {},
   "outputs": [],
   "source": [
    "print_and_store_metrics('Polynomial Regression', y_test, poly_pred)"
   ]
  },
  {
   "cell_type": "code",
   "execution_count": null,
   "id": "369dfee0",
   "metadata": {},
   "outputs": [],
   "source": [
    "# Support Vector Regression (SVR)\n",
    "svr_model = SVR(kernel='linear')\n",
    "svr_model.fit(X_train, y_train)\n",
    "svr_pred = svr_model.predict(X_test)\n",
    "performance_metrics['SVR'] = {\n",
    "    'MSE': mean_squared_error(y_test, svr_pred),\n",
    "    'R2': r2_score(y_test, svr_pred),\n",
    "    'MAE': mean_absolute_error(y_test, svr_pred),\n",
    "    'Explained Variance': explained_variance_score(y_test, svr_pred)\n",
    "}"
   ]
  },
  {
   "cell_type": "code",
   "execution_count": null,
   "id": "86d3f3d0",
   "metadata": {},
   "outputs": [],
   "source": [
    "print_and_store_metrics('SVR', y_test, svr_pred)"
   ]
  },
  {
   "cell_type": "code",
   "execution_count": null,
   "id": "bdb153b9",
   "metadata": {},
   "outputs": [],
   "source": [
    "# Decision Tree Regression\n",
    "dt_model = DecisionTreeRegressor()\n",
    "dt_model.fit(X_train, y_train)\n",
    "dt_pred = dt_model.predict(X_test)\n",
    "performance_metrics['Decision Tree Regression'] = {\n",
    "    'MSE': mean_squared_error(y_test, dt_pred),\n",
    "    'R2': r2_score(y_test, dt_pred),\n",
    "    'MAE': mean_absolute_error(y_test, dt_pred),\n",
    "    'Explained Variance': explained_variance_score(y_test, dt_pred)\n",
    "}"
   ]
  },
  {
   "cell_type": "code",
   "execution_count": null,
   "id": "f44c2eaf",
   "metadata": {},
   "outputs": [],
   "source": [
    "print_and_store_metrics('Decision Tree Regression', y_test, dt_pred)"
   ]
  },
  {
   "cell_type": "code",
   "execution_count": null,
   "id": "1b0b8e5d",
   "metadata": {},
   "outputs": [],
   "source": [
    "# Random Forest Regression\n",
    "rf_model = RandomForestRegressor(n_estimators=100, random_state=42)\n",
    "rf_model.fit(X_train, y_train)\n",
    "rf_pred = rf_model.predict(X_test)\n",
    "performance_metrics['Random Forest Regression'] = {\n",
    "    'MSE': mean_squared_error(y_test, rf_pred),\n",
    "    'R2': r2_score(y_test, rf_pred),\n",
    "    'MAE': mean_absolute_error(y_test, rf_pred),\n",
    "    'Explained Variance': explained_variance_score(y_test, rf_pred)\n",
    "}\n",
    "\n"
   ]
  },
  {
   "cell_type": "code",
   "execution_count": null,
   "id": "e536849c",
   "metadata": {},
   "outputs": [],
   "source": [
    "# Train a RandomForestRegressor model\n",
    "rfc = RandomForestRegressor(n_estimators=100, random_state=42)\n",
    "rfc.fit(X_train, y_train)\n",
    "\n"
   ]
  },
  {
   "cell_type": "code",
   "execution_count": null,
   "id": "8f529ab3",
   "metadata": {},
   "outputs": [],
   "source": [
    "# Define custom colors\n",
    "colors = [\"#9bb7d4\", \"#0f4c81\"]           \n",
    "cmap = matplotlib.colors.LinearSegmentedColormap.from_list(\"\", colors)\n"
   ]
  },
  {
   "cell_type": "code",
   "execution_count": null,
   "id": "0bfe031e",
   "metadata": {},
   "outputs": [],
   "source": [
    "print_and_store_metrics('Random Forest Regression', y_test, rf_pred)"
   ]
  },
  {
   "cell_type": "code",
   "execution_count": null,
   "id": "ee041cdd",
   "metadata": {},
   "outputs": [],
   "source": [
    "# Gradient Boosting Regression\n",
    "gb_model = GradientBoostingRegressor(n_estimators=100, learning_rate=0.1, max_depth=3, random_state=42)\n",
    "gb_model.fit(X_train, y_train)\n",
    "gb_pred = gb_model.predict(X_test)\n",
    "performance_metrics['Gradient Boosting Regression'] = {\n",
    "    'MSE': mean_squared_error(y_test, gb_pred),\n",
    "    'R2': r2_score(y_test, gb_pred),\n",
    "    'MAE': mean_absolute_error(y_test, gb_pred),\n",
    "    'Explained Variance': explained_variance_score(y_test, gb_pred)\n",
    "}\n"
   ]
  },
  {
   "cell_type": "code",
   "execution_count": null,
   "id": "9ae63d03",
   "metadata": {},
   "outputs": [],
   "source": [
    "print_and_store_metrics('Gradient Boosting Regression', y_test, gb_pred)"
   ]
  },
  {
   "cell_type": "code",
   "execution_count": null,
   "id": "a2a8dd20",
   "metadata": {},
   "outputs": [],
   "source": [
    "# Bayesian Ridge Regression\n",
    "bayesian_model = BayesianRidge()\n",
    "bayesian_model.fit(X_train, y_train)\n",
    "bayesian_pred = bayesian_model.predict(X_test)\n",
    "performance_metrics['Bayesian Ridge Regression'] = {\n",
    "    'MSE': mean_squared_error(y_test, bayesian_pred),\n",
    "    'R2': r2_score(y_test, bayesian_pred),\n",
    "    'MAE': mean_absolute_error(y_test, bayesian_pred),\n",
    "    'Explained Variance': explained_variance_score(y_test, bayesian_pred)\n",
    "}\n"
   ]
  },
  {
   "cell_type": "code",
   "execution_count": null,
   "id": "550b3129",
   "metadata": {},
   "outputs": [],
   "source": [
    "print_and_store_metrics('Bayesian Ridge Regression', y_test, bayesian_pred)"
   ]
  },
  {
   "cell_type": "code",
   "execution_count": null,
   "id": "336e615c",
   "metadata": {
    "scrolled": true
   },
   "outputs": [],
   "source": [
    "# Display performance metrics for all models\n",
    "performance_df = pd.DataFrame(performance_metrics).T\n",
    "print(performance_df)"
   ]
  },
  {
   "cell_type": "code",
   "execution_count": null,
   "id": "dd5d3971",
   "metadata": {},
   "outputs": [],
   "source": []
  }
 ],
 "metadata": {
  "kernelspec": {
   "display_name": "Python 3 (ipykernel)",
   "language": "python",
   "name": "python3"
  },
  "language_info": {
   "codemirror_mode": {
    "name": "ipython",
    "version": 3
   },
   "file_extension": ".py",
   "mimetype": "text/x-python",
   "name": "python",
   "nbconvert_exporter": "python",
   "pygments_lexer": "ipython3",
   "version": "3.11.4"
  }
 },
 "nbformat": 4,
 "nbformat_minor": 5
}
